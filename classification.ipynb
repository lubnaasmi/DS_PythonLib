{
 "cells": [
  {
   "cell_type": "markdown",
   "id": "3184f0d1-fe56-494d-baa6-20f69a2bd5d3",
   "metadata": {},
   "source": [
    "## Week 4, Lab 1: Predicting Left-Handedness from Psychological Factors\n",
    "> Author: Matt Brems\n",
    "\n",
    "One way to define the data science process is as follows:\n",
    "\n",
    "1. Define the problem.\n",
    "2. Obtain the data.\n",
    "3. Explore the data.\n",
    "4. Model the data.\n",
    "5. Evaluate the model.\n",
    "6. Answer the problem.\n",
    "\n",
    "We'll walk through a full data science problem in this lab. \n",
    "\n",
    "---\n",
    "## Define The Problem.\n",
    "\n",
    "You're currently a data scientist working at a university. A professor of psychology is attempting to study the relationship between personalities and left-handedness. They have tasked you with gathering evidence so that they may publish.\n",
    "\n",
    "As a data scientist, you know that any real data science problem must be **specific** and **conclusively answerable**. For example:\n",
    "- Bad data science problem: \"What is the link between obesity and blood pressure?\"\n",
    "    - This is vague and is not conclusively answerable. That is, two people might look at the conclusion and one may say \"Sure, the problem has been answered!\" and the other may say \"The problem has not yet been answered.\"\n",
    "- Good data science problem: \"Does an association exist between obesity and blood pressure?\"\n",
    "    - This is more specific and is conclusively answerable. The problem specifically is asking for a \"Yes\" or \"No\" answer. Based on that, two independent people should both be able to say either \"Yes, the problem has been answered\" or \"No, the problem has not yet been answered.\"\n",
    "- Excellent data science problem: \"As obesity increases, how does blood pressure change?\"\n",
    "    - This is very specific and is conclusively answerable. The problem specifically seeks to understand the effect of one variable on the other.\n",
    "\n",
    "### In the context of the left-handedness and personality example, what are three specific and conclusively answerable problems that you could answer using data science? \n",
    "\n",
    "> You might find it helpful to check out the codebook in the repo for some inspiration."
   ]
  },
  {
   "cell_type": "code",
   "execution_count": null,
   "id": "3342ac53-c92c-4af6-a781-a6c81693377c",
   "metadata": {},
   "outputs": [],
   "source": [
    "# 1.  How many population is left-handedness?\n",
    "# 2.  Do left-handedness got good personality?\n",
    "# 3.  what is the Personality change ratio for left-handedness and right handedness\n"
   ]
  },
  {
   "cell_type": "markdown",
   "id": "6bea50d5-6a4d-4948-9fe5-42d6cd6c5afb",
   "metadata": {},
   "source": [
    "---\n",
    "## Step 2: Obtain the data.\n",
    "\n",
    "### Read in the file titled \"data.csv\":\n",
    "> Hint: Despite being saved as a .csv file, you won't be able to simply `pd.read_csv()` this data!"
   ]
  },
  {
   "cell_type": "code",
   "execution_count": 78,
   "id": "eb2a1f5d-32fb-4415-87de-3455cee07a7e",
   "metadata": {},
   "outputs": [],
   "source": [
    "# library imports\n",
    "import numpy as np\n",
    "import pandas as pd\n",
    "from sklearn.neighbors import KNeighborsClassifier\n",
    "from sklearn.linear_model import LogisticRegression"
   ]
  },
  {
   "cell_type": "code",
   "execution_count": 14,
   "id": "23ce3fe6-3e08-45e1-8426-f6f4fdfe5f03",
   "metadata": {},
   "outputs": [],
   "source": [
    "df=pd.read_csv('data.csv',sep='\\t')"
   ]
  },
  {
   "cell_type": "code",
   "execution_count": 15,
   "id": "dc21c079-b2e7-442d-a22b-7a6cc81ecc3c",
   "metadata": {},
   "outputs": [
    {
     "data": {
      "text/html": [
       "<div>\n",
       "<style scoped>\n",
       "    .dataframe tbody tr th:only-of-type {\n",
       "        vertical-align: middle;\n",
       "    }\n",
       "\n",
       "    .dataframe tbody tr th {\n",
       "        vertical-align: top;\n",
       "    }\n",
       "\n",
       "    .dataframe thead th {\n",
       "        text-align: right;\n",
       "    }\n",
       "</style>\n",
       "<table border=\"1\" class=\"dataframe\">\n",
       "  <thead>\n",
       "    <tr style=\"text-align: right;\">\n",
       "      <th></th>\n",
       "      <th>Q1</th>\n",
       "      <th>Q2</th>\n",
       "      <th>Q3</th>\n",
       "      <th>Q4</th>\n",
       "      <th>Q5</th>\n",
       "      <th>Q6</th>\n",
       "      <th>Q7</th>\n",
       "      <th>Q8</th>\n",
       "      <th>Q9</th>\n",
       "      <th>Q10</th>\n",
       "      <th>...</th>\n",
       "      <th>country</th>\n",
       "      <th>fromgoogle</th>\n",
       "      <th>engnat</th>\n",
       "      <th>age</th>\n",
       "      <th>education</th>\n",
       "      <th>gender</th>\n",
       "      <th>orientation</th>\n",
       "      <th>race</th>\n",
       "      <th>religion</th>\n",
       "      <th>hand</th>\n",
       "    </tr>\n",
       "  </thead>\n",
       "  <tbody>\n",
       "    <tr>\n",
       "      <th>0</th>\n",
       "      <td>4</td>\n",
       "      <td>1</td>\n",
       "      <td>5</td>\n",
       "      <td>1</td>\n",
       "      <td>5</td>\n",
       "      <td>1</td>\n",
       "      <td>5</td>\n",
       "      <td>1</td>\n",
       "      <td>4</td>\n",
       "      <td>1</td>\n",
       "      <td>...</td>\n",
       "      <td>US</td>\n",
       "      <td>2</td>\n",
       "      <td>1</td>\n",
       "      <td>22</td>\n",
       "      <td>3</td>\n",
       "      <td>1</td>\n",
       "      <td>1</td>\n",
       "      <td>3</td>\n",
       "      <td>2</td>\n",
       "      <td>3</td>\n",
       "    </tr>\n",
       "    <tr>\n",
       "      <th>1</th>\n",
       "      <td>1</td>\n",
       "      <td>5</td>\n",
       "      <td>1</td>\n",
       "      <td>4</td>\n",
       "      <td>2</td>\n",
       "      <td>5</td>\n",
       "      <td>5</td>\n",
       "      <td>4</td>\n",
       "      <td>1</td>\n",
       "      <td>5</td>\n",
       "      <td>...</td>\n",
       "      <td>CA</td>\n",
       "      <td>2</td>\n",
       "      <td>1</td>\n",
       "      <td>14</td>\n",
       "      <td>1</td>\n",
       "      <td>2</td>\n",
       "      <td>2</td>\n",
       "      <td>6</td>\n",
       "      <td>1</td>\n",
       "      <td>1</td>\n",
       "    </tr>\n",
       "    <tr>\n",
       "      <th>2</th>\n",
       "      <td>1</td>\n",
       "      <td>2</td>\n",
       "      <td>1</td>\n",
       "      <td>1</td>\n",
       "      <td>5</td>\n",
       "      <td>4</td>\n",
       "      <td>3</td>\n",
       "      <td>2</td>\n",
       "      <td>1</td>\n",
       "      <td>4</td>\n",
       "      <td>...</td>\n",
       "      <td>NL</td>\n",
       "      <td>2</td>\n",
       "      <td>2</td>\n",
       "      <td>30</td>\n",
       "      <td>4</td>\n",
       "      <td>1</td>\n",
       "      <td>1</td>\n",
       "      <td>1</td>\n",
       "      <td>1</td>\n",
       "      <td>2</td>\n",
       "    </tr>\n",
       "    <tr>\n",
       "      <th>3</th>\n",
       "      <td>1</td>\n",
       "      <td>4</td>\n",
       "      <td>1</td>\n",
       "      <td>5</td>\n",
       "      <td>1</td>\n",
       "      <td>4</td>\n",
       "      <td>5</td>\n",
       "      <td>4</td>\n",
       "      <td>3</td>\n",
       "      <td>5</td>\n",
       "      <td>...</td>\n",
       "      <td>US</td>\n",
       "      <td>2</td>\n",
       "      <td>1</td>\n",
       "      <td>18</td>\n",
       "      <td>2</td>\n",
       "      <td>2</td>\n",
       "      <td>5</td>\n",
       "      <td>3</td>\n",
       "      <td>2</td>\n",
       "      <td>2</td>\n",
       "    </tr>\n",
       "    <tr>\n",
       "      <th>4</th>\n",
       "      <td>5</td>\n",
       "      <td>1</td>\n",
       "      <td>5</td>\n",
       "      <td>1</td>\n",
       "      <td>5</td>\n",
       "      <td>1</td>\n",
       "      <td>5</td>\n",
       "      <td>1</td>\n",
       "      <td>3</td>\n",
       "      <td>1</td>\n",
       "      <td>...</td>\n",
       "      <td>US</td>\n",
       "      <td>2</td>\n",
       "      <td>1</td>\n",
       "      <td>22</td>\n",
       "      <td>3</td>\n",
       "      <td>1</td>\n",
       "      <td>1</td>\n",
       "      <td>3</td>\n",
       "      <td>2</td>\n",
       "      <td>3</td>\n",
       "    </tr>\n",
       "  </tbody>\n",
       "</table>\n",
       "<p>5 rows × 56 columns</p>\n",
       "</div>"
      ],
      "text/plain": [
       "   Q1  Q2  Q3  Q4  Q5  Q6  Q7  Q8  Q9  Q10  ...  country  fromgoogle  engnat  \\\n",
       "0   4   1   5   1   5   1   5   1   4    1  ...       US           2       1   \n",
       "1   1   5   1   4   2   5   5   4   1    5  ...       CA           2       1   \n",
       "2   1   2   1   1   5   4   3   2   1    4  ...       NL           2       2   \n",
       "3   1   4   1   5   1   4   5   4   3    5  ...       US           2       1   \n",
       "4   5   1   5   1   5   1   5   1   3    1  ...       US           2       1   \n",
       "\n",
       "   age  education  gender  orientation  race  religion  hand  \n",
       "0   22          3       1            1     3         2     3  \n",
       "1   14          1       2            2     6         1     1  \n",
       "2   30          4       1            1     1         1     2  \n",
       "3   18          2       2            5     3         2     2  \n",
       "4   22          3       1            1     3         2     3  \n",
       "\n",
       "[5 rows x 56 columns]"
      ]
     },
     "execution_count": 15,
     "metadata": {},
     "output_type": "execute_result"
    }
   ],
   "source": [
    "df.head()"
   ]
  },
  {
   "cell_type": "code",
   "execution_count": 16,
   "id": "c59dcff4-56f6-45a2-a690-ec5192909592",
   "metadata": {},
   "outputs": [
    {
     "data": {
      "text/plain": [
       "Index(['Q1', 'Q2', 'Q3', 'Q4', 'Q5', 'Q6', 'Q7', 'Q8', 'Q9', 'Q10', 'Q11',\n",
       "       'Q12', 'Q13', 'Q14', 'Q15', 'Q16', 'Q17', 'Q18', 'Q19', 'Q20', 'Q21',\n",
       "       'Q22', 'Q23', 'Q24', 'Q25', 'Q26', 'Q27', 'Q28', 'Q29', 'Q30', 'Q31',\n",
       "       'Q32', 'Q33', 'Q34', 'Q35', 'Q36', 'Q37', 'Q38', 'Q39', 'Q40', 'Q41',\n",
       "       'Q42', 'Q43', 'Q44', 'introelapse', 'testelapse', 'country',\n",
       "       'fromgoogle', 'engnat', 'age', 'education', 'gender', 'orientation',\n",
       "       'race', 'religion', 'hand'],\n",
       "      dtype='object')"
      ]
     },
     "execution_count": 16,
     "metadata": {},
     "output_type": "execute_result"
    }
   ],
   "source": [
    "df.columns\n"
   ]
  },
  {
   "cell_type": "markdown",
   "id": "fb928620-0569-4ca1-b11d-efb77951d278",
   "metadata": {},
   "source": [
    "---\n",
    "\n",
    "## Step 3: Explore the data.\n",
    "\n",
    "### Conduct background research:\n",
    "\n",
    "Domain knowledge is irreplaceable. Figuring out what information is relevant to a problem, or what data would be useful to gather, is a major part of any end-to-end data science project! For this lab, you'll be using a dataset that someone else has put together, rather than collecting the data yourself.\n",
    "\n",
    "Do some background research about personality and handedness. What features, if any, are likely to help you make good predictions? How well do you think you'll be able to model this? Write a few bullet points summarizing what you believe, and remember to cite external sources.\n",
    "\n",
    "You don't have to be exhaustive here. Do enough research to form an opinion, and then move on.\n",
    "\n",
    "> You'll be using the answers to Q1-Q44 for modeling; you can disregard other features, e.g. country, age, internet browser."
   ]
  },
  {
   "cell_type": "code",
   "execution_count": 17,
   "id": "d01d0c1f-3b49-4b1e-ac15-a76b6d80c96b",
   "metadata": {},
   "outputs": [],
   "source": [
    "df.drop(columns=['introelapse', 'testelapse', 'country',\n",
    "       'fromgoogle', 'engnat', 'age', 'education', 'gender', 'orientation',\n",
    "       'race', 'religion'],inplace=True)"
   ]
  },
  {
   "cell_type": "code",
   "execution_count": 18,
   "id": "86b049bf-60b4-4b87-80c9-b9c553311b79",
   "metadata": {},
   "outputs": [],
   "source": [
    "#  What is special about left-handedness?\n",
    "# how much left-handedness score higher  when it comes to creativity, imagination? \n"
   ]
  },
  {
   "cell_type": "markdown",
   "id": "36a75853-6d9c-42c8-95ca-e0fdad19a17b",
   "metadata": {},
   "source": [
    "### Conduct exploratory data analysis on this dataset:\n",
    "\n",
    "If you haven't already, be sure to check out the codebook in the repo, as that will help in your EDA process.\n",
    "\n",
    "You might use this section to perform data cleaning if you find it to be necessary."
   ]
  },
  {
   "cell_type": "code",
   "execution_count": 19,
   "id": "c4461bb5-9dd2-46c2-b1cc-dca2d92e2290",
   "metadata": {},
   "outputs": [
    {
     "data": {
      "text/plain": [
       "Index(['Q1', 'Q2', 'Q3', 'Q4', 'Q5', 'Q6', 'Q7', 'Q8', 'Q9', 'Q10', 'Q11',\n",
       "       'Q12', 'Q13', 'Q14', 'Q15', 'Q16', 'Q17', 'Q18', 'Q19', 'Q20', 'Q21',\n",
       "       'Q22', 'Q23', 'Q24', 'Q25', 'Q26', 'Q27', 'Q28', 'Q29', 'Q30', 'Q31',\n",
       "       'Q32', 'Q33', 'Q34', 'Q35', 'Q36', 'Q37', 'Q38', 'Q39', 'Q40', 'Q41',\n",
       "       'Q42', 'Q43', 'Q44', 'hand'],\n",
       "      dtype='object')"
      ]
     },
     "execution_count": 19,
     "metadata": {},
     "output_type": "execute_result"
    }
   ],
   "source": [
    "df.columns"
   ]
  },
  {
   "cell_type": "code",
   "execution_count": 20,
   "id": "62f73ded-e3bb-43a5-a0bb-dded8304ee86",
   "metadata": {},
   "outputs": [
    {
     "data": {
      "text/html": [
       "<div>\n",
       "<style scoped>\n",
       "    .dataframe tbody tr th:only-of-type {\n",
       "        vertical-align: middle;\n",
       "    }\n",
       "\n",
       "    .dataframe tbody tr th {\n",
       "        vertical-align: top;\n",
       "    }\n",
       "\n",
       "    .dataframe thead th {\n",
       "        text-align: right;\n",
       "    }\n",
       "</style>\n",
       "<table border=\"1\" class=\"dataframe\">\n",
       "  <thead>\n",
       "    <tr style=\"text-align: right;\">\n",
       "      <th></th>\n",
       "      <th>Q1</th>\n",
       "      <th>Q2</th>\n",
       "      <th>Q3</th>\n",
       "      <th>Q4</th>\n",
       "      <th>Q5</th>\n",
       "      <th>Q6</th>\n",
       "      <th>Q7</th>\n",
       "      <th>Q8</th>\n",
       "      <th>Q9</th>\n",
       "      <th>Q10</th>\n",
       "      <th>...</th>\n",
       "      <th>Q36</th>\n",
       "      <th>Q37</th>\n",
       "      <th>Q38</th>\n",
       "      <th>Q39</th>\n",
       "      <th>Q40</th>\n",
       "      <th>Q41</th>\n",
       "      <th>Q42</th>\n",
       "      <th>Q43</th>\n",
       "      <th>Q44</th>\n",
       "      <th>hand</th>\n",
       "    </tr>\n",
       "  </thead>\n",
       "  <tbody>\n",
       "    <tr>\n",
       "      <th>0</th>\n",
       "      <td>4</td>\n",
       "      <td>1</td>\n",
       "      <td>5</td>\n",
       "      <td>1</td>\n",
       "      <td>5</td>\n",
       "      <td>1</td>\n",
       "      <td>5</td>\n",
       "      <td>1</td>\n",
       "      <td>4</td>\n",
       "      <td>1</td>\n",
       "      <td>...</td>\n",
       "      <td>1</td>\n",
       "      <td>1</td>\n",
       "      <td>1</td>\n",
       "      <td>5</td>\n",
       "      <td>5</td>\n",
       "      <td>5</td>\n",
       "      <td>1</td>\n",
       "      <td>5</td>\n",
       "      <td>1</td>\n",
       "      <td>3</td>\n",
       "    </tr>\n",
       "    <tr>\n",
       "      <th>1</th>\n",
       "      <td>1</td>\n",
       "      <td>5</td>\n",
       "      <td>1</td>\n",
       "      <td>4</td>\n",
       "      <td>2</td>\n",
       "      <td>5</td>\n",
       "      <td>5</td>\n",
       "      <td>4</td>\n",
       "      <td>1</td>\n",
       "      <td>5</td>\n",
       "      <td>...</td>\n",
       "      <td>4</td>\n",
       "      <td>4</td>\n",
       "      <td>4</td>\n",
       "      <td>1</td>\n",
       "      <td>3</td>\n",
       "      <td>1</td>\n",
       "      <td>4</td>\n",
       "      <td>4</td>\n",
       "      <td>5</td>\n",
       "      <td>1</td>\n",
       "    </tr>\n",
       "    <tr>\n",
       "      <th>2</th>\n",
       "      <td>1</td>\n",
       "      <td>2</td>\n",
       "      <td>1</td>\n",
       "      <td>1</td>\n",
       "      <td>5</td>\n",
       "      <td>4</td>\n",
       "      <td>3</td>\n",
       "      <td>2</td>\n",
       "      <td>1</td>\n",
       "      <td>4</td>\n",
       "      <td>...</td>\n",
       "      <td>2</td>\n",
       "      <td>4</td>\n",
       "      <td>2</td>\n",
       "      <td>1</td>\n",
       "      <td>4</td>\n",
       "      <td>2</td>\n",
       "      <td>2</td>\n",
       "      <td>2</td>\n",
       "      <td>2</td>\n",
       "      <td>2</td>\n",
       "    </tr>\n",
       "    <tr>\n",
       "      <th>3</th>\n",
       "      <td>1</td>\n",
       "      <td>4</td>\n",
       "      <td>1</td>\n",
       "      <td>5</td>\n",
       "      <td>1</td>\n",
       "      <td>4</td>\n",
       "      <td>5</td>\n",
       "      <td>4</td>\n",
       "      <td>3</td>\n",
       "      <td>5</td>\n",
       "      <td>...</td>\n",
       "      <td>1</td>\n",
       "      <td>3</td>\n",
       "      <td>4</td>\n",
       "      <td>1</td>\n",
       "      <td>2</td>\n",
       "      <td>1</td>\n",
       "      <td>1</td>\n",
       "      <td>1</td>\n",
       "      <td>3</td>\n",
       "      <td>2</td>\n",
       "    </tr>\n",
       "    <tr>\n",
       "      <th>4</th>\n",
       "      <td>5</td>\n",
       "      <td>1</td>\n",
       "      <td>5</td>\n",
       "      <td>1</td>\n",
       "      <td>5</td>\n",
       "      <td>1</td>\n",
       "      <td>5</td>\n",
       "      <td>1</td>\n",
       "      <td>3</td>\n",
       "      <td>1</td>\n",
       "      <td>...</td>\n",
       "      <td>1</td>\n",
       "      <td>1</td>\n",
       "      <td>1</td>\n",
       "      <td>5</td>\n",
       "      <td>5</td>\n",
       "      <td>5</td>\n",
       "      <td>1</td>\n",
       "      <td>5</td>\n",
       "      <td>1</td>\n",
       "      <td>3</td>\n",
       "    </tr>\n",
       "  </tbody>\n",
       "</table>\n",
       "<p>5 rows × 45 columns</p>\n",
       "</div>"
      ],
      "text/plain": [
       "   Q1  Q2  Q3  Q4  Q5  Q6  Q7  Q8  Q9  Q10  ...  Q36  Q37  Q38  Q39  Q40  Q41  \\\n",
       "0   4   1   5   1   5   1   5   1   4    1  ...    1    1    1    5    5    5   \n",
       "1   1   5   1   4   2   5   5   4   1    5  ...    4    4    4    1    3    1   \n",
       "2   1   2   1   1   5   4   3   2   1    4  ...    2    4    2    1    4    2   \n",
       "3   1   4   1   5   1   4   5   4   3    5  ...    1    3    4    1    2    1   \n",
       "4   5   1   5   1   5   1   5   1   3    1  ...    1    1    1    5    5    5   \n",
       "\n",
       "   Q42  Q43  Q44  hand  \n",
       "0    1    5    1     3  \n",
       "1    4    4    5     1  \n",
       "2    2    2    2     2  \n",
       "3    1    1    3     2  \n",
       "4    1    5    1     3  \n",
       "\n",
       "[5 rows x 45 columns]"
      ]
     },
     "execution_count": 20,
     "metadata": {},
     "output_type": "execute_result"
    }
   ],
   "source": [
    "df.head()"
   ]
  },
  {
   "cell_type": "code",
   "execution_count": 21,
   "id": "518e2ca7-bf44-4d3a-bf8e-2ddae073e989",
   "metadata": {},
   "outputs": [
    {
     "data": {
      "text/plain": [
       "Q1      int64\n",
       "Q2      int64\n",
       "Q3      int64\n",
       "Q4      int64\n",
       "Q5      int64\n",
       "Q6      int64\n",
       "Q7      int64\n",
       "Q8      int64\n",
       "Q9      int64\n",
       "Q10     int64\n",
       "Q11     int64\n",
       "Q12     int64\n",
       "Q13     int64\n",
       "Q14     int64\n",
       "Q15     int64\n",
       "Q16     int64\n",
       "Q17     int64\n",
       "Q18     int64\n",
       "Q19     int64\n",
       "Q20     int64\n",
       "Q21     int64\n",
       "Q22     int64\n",
       "Q23     int64\n",
       "Q24     int64\n",
       "Q25     int64\n",
       "Q26     int64\n",
       "Q27     int64\n",
       "Q28     int64\n",
       "Q29     int64\n",
       "Q30     int64\n",
       "Q31     int64\n",
       "Q32     int64\n",
       "Q33     int64\n",
       "Q34     int64\n",
       "Q35     int64\n",
       "Q36     int64\n",
       "Q37     int64\n",
       "Q38     int64\n",
       "Q39     int64\n",
       "Q40     int64\n",
       "Q41     int64\n",
       "Q42     int64\n",
       "Q43     int64\n",
       "Q44     int64\n",
       "hand    int64\n",
       "dtype: object"
      ]
     },
     "execution_count": 21,
     "metadata": {},
     "output_type": "execute_result"
    }
   ],
   "source": [
    "df.dtypes"
   ]
  },
  {
   "cell_type": "code",
   "execution_count": 22,
   "id": "732b3bef-b633-4819-bd5c-af883ef89f27",
   "metadata": {},
   "outputs": [
    {
     "data": {
      "text/plain": [
       "Q1      0\n",
       "Q2      0\n",
       "Q3      0\n",
       "Q4      0\n",
       "Q5      0\n",
       "Q6      0\n",
       "Q7      0\n",
       "Q8      0\n",
       "Q9      0\n",
       "Q10     0\n",
       "Q11     0\n",
       "Q12     0\n",
       "Q13     0\n",
       "Q14     0\n",
       "Q15     0\n",
       "Q16     0\n",
       "Q17     0\n",
       "Q18     0\n",
       "Q19     0\n",
       "Q20     0\n",
       "Q21     0\n",
       "Q22     0\n",
       "Q23     0\n",
       "Q24     0\n",
       "Q25     0\n",
       "Q26     0\n",
       "Q27     0\n",
       "Q28     0\n",
       "Q29     0\n",
       "Q30     0\n",
       "Q31     0\n",
       "Q32     0\n",
       "Q33     0\n",
       "Q34     0\n",
       "Q35     0\n",
       "Q36     0\n",
       "Q37     0\n",
       "Q38     0\n",
       "Q39     0\n",
       "Q40     0\n",
       "Q41     0\n",
       "Q42     0\n",
       "Q43     0\n",
       "Q44     0\n",
       "hand    0\n",
       "dtype: int64"
      ]
     },
     "execution_count": 22,
     "metadata": {},
     "output_type": "execute_result"
    }
   ],
   "source": [
    "df.isnull().sum()"
   ]
  },
  {
   "cell_type": "markdown",
   "id": "76289efe-1cfe-4d83-9d07-fbb006997f14",
   "metadata": {},
   "source": [
    "### Calculate and interpret the baseline accuracy rate:"
   ]
  },
  {
   "cell_type": "code",
   "execution_count": 25,
   "id": "35a60b82-c1ce-43cc-9a71-f4f2ede3f459",
   "metadata": {},
   "outputs": [
    {
     "data": {
      "text/plain": [
       "DummyClassifier(strategy='most_frequent')"
      ]
     },
     "execution_count": 25,
     "metadata": {},
     "output_type": "execute_result"
    }
   ],
   "source": [
    "from sklearn.dummy import DummyClassifier\n",
    "\n",
    "X=df.drop(columns='hand')\n",
    "y=df['hand']\n",
    "dummy_clf = DummyClassifier(strategy=\"most_frequent\")\n",
    "dummy_clf.fit(X, y)"
   ]
  },
  {
   "cell_type": "code",
   "execution_count": 26,
   "id": "aef296b5-1c78-4330-9d0d-3a26c0bc19b8",
   "metadata": {},
   "outputs": [
    {
     "data": {
      "text/plain": [
       "0.8465583173996176"
      ]
     },
     "execution_count": 26,
     "metadata": {},
     "output_type": "execute_result"
    }
   ],
   "source": [
    "dummy_clf.score(X, y)"
   ]
  },
  {
   "cell_type": "code",
   "execution_count": 28,
   "id": "e8a29511-660a-46fd-aee9-0c754237f2f0",
   "metadata": {},
   "outputs": [],
   "source": [
    "#This model will be 84.65% accurate in predicting right."
   ]
  },
  {
   "cell_type": "markdown",
   "id": "e48958c0-5322-4ef4-a8dd-94dc681b21ff",
   "metadata": {},
   "source": [
    "### Short answer questions:\n",
    "\n",
    "In this lab you'll use K-nearest neighbors and logistic regression to model handedness based off of psychological factors. Answer the following related questions; your answers may be in bullet points.\n",
    "\n",
    "#### Describe the difference between regression and classification problems:"
   ]
  },
  {
   "cell_type": "markdown",
   "id": "fc5f5cc4-f457-47b7-af96-a83164d00e04",
   "metadata": {},
   "source": [
    " Regression:Given x,predicting y which is numeric\n",
    " Classification : predicting y,which is a categorical column.(yes/no.0/1)"
   ]
  },
  {
   "cell_type": "markdown",
   "id": "a48dfc3c-42a1-46ca-b0ae-9e146737dbd6",
   "metadata": {},
   "source": [
    "#### Considering $k$-nearest neighbors, describe the relationship between $k$ and the bias-variance tradeoff:"
   ]
  },
  {
   "cell_type": "markdown",
   "id": "f06c270c-d0bd-40ea-b5bd-9f8aafe2984d",
   "metadata": {},
   "source": [
    " bias-variance tradeoff: Finding sweetspot between bias and variance.\n",
    " K in knn : k in KNN is a parameter that refers to the \n",
    "           number of nearest neighbours to include in the majority of the voting process\n",
    "\n",
    "both k and bias-variance tradeoff must be the best to get best model result."
   ]
  },
  {
   "cell_type": "markdown",
   "id": "464f48e9-2a4a-45b4-aa97-03e0eca99848",
   "metadata": {},
   "source": [
    "#### Why do we often standardize predictor variables when using $k$-nearest neighbors?"
   ]
  },
  {
   "cell_type": "markdown",
   "id": "3304865f-472a-4f14-8205-ede4b092591f",
   "metadata": {},
   "source": [
    "Because it is highly sensitive to the magnitude of the feature."
   ]
  },
  {
   "cell_type": "markdown",
   "id": "9507f57f-84e1-40e2-8b70-6e4ac89f8cf2",
   "metadata": {},
   "source": [
    "#### Do you think we should standardize the explanatory variables for this problem? Why or why not?"
   ]
  },
  {
   "cell_type": "markdown",
   "id": "424b6b16-1f52-4936-b115-2108d7506a98",
   "metadata": {},
   "source": [
    "yes.beacause knn is calculating distance between the neighbours,and it is highly sensitive to the magnitude of your feature."
   ]
  },
  {
   "cell_type": "markdown",
   "id": "8c3e59df-9635-40f8-aee5-247faba3d597",
   "metadata": {
    "tags": []
   },
   "source": [
    "#### How do we settle on $k$ for a $k$-nearest neighbors model?"
   ]
  },
  {
   "cell_type": "markdown",
   "id": "13411e29-7c68-4f5e-a3d9-be218b155710",
   "metadata": {},
   "source": [
    "The best K will change from problem to problem, but the default is 5"
   ]
  },
  {
   "cell_type": "markdown",
   "id": "f7700a34-eef5-4396-82d9-5f888950a2ee",
   "metadata": {},
   "source": [
    "#### What is the default type of regularization for logistic regression as implemented in scikit-learn? (You might [check the documentation](https://scikit-learn.org/stable/modules/generated/sklearn.linear_model.LogisticRegression.html).)"
   ]
  },
  {
   "cell_type": "markdown",
   "id": "d12fdf06-1589-4e39-9c6b-cebfa7630826",
   "metadata": {},
   "source": [
    "L2 regularization "
   ]
  },
  {
   "cell_type": "markdown",
   "id": "c96a72ca-a8d1-4b1b-8315-951507efd413",
   "metadata": {},
   "source": [
    "#### Describe the relationship between the scikit-learn `LogisticRegression` argument `C` and regularization strength:"
   ]
  },
  {
   "cell_type": "markdown",
   "id": "8b6b36f0-c2aa-46e1-ad12-b69e40c749f4",
   "metadata": {},
   "source": [
    "Inverse of regularization strength; must be a positive float. Like in support vector machines, smaller values specify stronger regularization."
   ]
  },
  {
   "cell_type": "markdown",
   "id": "587022aa-4844-4fc5-9c84-0fb51b75b94a",
   "metadata": {},
   "source": [
    "#### Describe the relationship between regularization strength and the bias-variance tradeoff:"
   ]
  },
  {
   "cell_type": "markdown",
   "id": "9047bf9c-6344-42ea-b466-fd191e9ede41",
   "metadata": {},
   "source": [
    "If regularization increase,overfitting will increse,means variance will increase.if your model is in bias,(underfit),regularization willn't help.Generally regularisation deals with overfitting."
   ]
  },
  {
   "cell_type": "markdown",
   "id": "9fe322da-2b75-4707-8e32-55fe6d7fbd86",
   "metadata": {},
   "source": [
    "#### Logistic regression is considered more interpretable than $k$-nearest neighbors. Explain why."
   ]
  },
  {
   "cell_type": "markdown",
   "id": "8ce5693b-44f4-4b75-a29d-a36e03eb7b1d",
   "metadata": {},
   "source": [
    "Logistic regression generates the coefficients of a formula to predict a logit transformation of the probability that the characteristic of interest is present.\n"
   ]
  },
  {
   "cell_type": "markdown",
   "id": "491ccade-8ead-46de-9323-c448a16e14bd",
   "metadata": {},
   "source": [
    "---\n",
    "\n",
    "## Step 4 & 5 Modeling: $k$-nearest neighbors\n",
    "\n",
    "### Train-test split your data:\n",
    "\n",
    "Your explanatory variables should be "
   ]
  },
  {
   "cell_type": "code",
   "execution_count": 42,
   "id": "61e21aeb-2fe3-41a8-ad18-05bd8dff8308",
   "metadata": {},
   "outputs": [
    {
     "data": {
      "text/plain": [
       "KNeighborsClassifier()"
      ]
     },
     "execution_count": 42,
     "metadata": {},
     "output_type": "execute_result"
    }
   ],
   "source": [
    "from sklearn.model_selection import train_test_split,cross_val_score\n",
    "knn=KNeighborsClassifier()\n",
    "knn"
   ]
  },
  {
   "cell_type": "code",
   "execution_count": null,
   "id": "5072e2f6-9577-42b7-bbf4-ca3ef9893f1f",
   "metadata": {},
   "outputs": [],
   "source": [
    "knn.score()"
   ]
  },
  {
   "cell_type": "code",
   "execution_count": 33,
   "id": "ef45f76d-68a7-4ba0-b2c6-9ec6a14e7492",
   "metadata": {},
   "outputs": [
    {
     "data": {
      "text/plain": [
       "(4184, 44)"
      ]
     },
     "execution_count": 33,
     "metadata": {},
     "output_type": "execute_result"
    }
   ],
   "source": [
    "X.shape"
   ]
  },
  {
   "cell_type": "code",
   "execution_count": 34,
   "id": "75eca83c-142b-486a-bdd5-433c09d6f71f",
   "metadata": {},
   "outputs": [
    {
     "data": {
      "text/plain": [
       "(4184,)"
      ]
     },
     "execution_count": 34,
     "metadata": {},
     "output_type": "execute_result"
    }
   ],
   "source": [
    "y.shape"
   ]
  },
  {
   "cell_type": "code",
   "execution_count": 35,
   "id": "0b780ef0-ab37-402a-b55e-738a345e463d",
   "metadata": {},
   "outputs": [],
   "source": [
    "X_train, X_test, y_train, y_test = train_test_split(X, y,stratify = y)"
   ]
  },
  {
   "cell_type": "code",
   "execution_count": 39,
   "id": "7ec857fb-6c48-414a-ba08-40b3a96ab848",
   "metadata": {},
   "outputs": [
    {
     "data": {
      "text/plain": [
       "1    2657\n",
       "2     339\n",
       "3     134\n",
       "0       8\n",
       "Name: hand, dtype: int64"
      ]
     },
     "execution_count": 39,
     "metadata": {},
     "output_type": "execute_result"
    }
   ],
   "source": [
    "y_train.value_counts()"
   ]
  },
  {
   "cell_type": "code",
   "execution_count": 40,
   "id": "6f0fd029-226e-4ec4-95e1-17fa1f609c86",
   "metadata": {},
   "outputs": [
    {
     "data": {
      "text/plain": [
       "1    885\n",
       "2    113\n",
       "3     45\n",
       "0      3\n",
       "Name: hand, dtype: int64"
      ]
     },
     "execution_count": 40,
     "metadata": {},
     "output_type": "execute_result"
    }
   ],
   "source": [
    "y_test.value_counts()"
   ]
  },
  {
   "cell_type": "code",
   "execution_count": 44,
   "id": "10778733-8ad5-408f-b3c7-3f29cc2b82c7",
   "metadata": {},
   "outputs": [
    {
     "data": {
      "text/plain": [
       "0.8333292763670354"
      ]
     },
     "execution_count": 44,
     "metadata": {},
     "output_type": "execute_result"
    }
   ],
   "source": [
    "cross_val_score(knn,X_train,y_train,cv=8).mean()"
   ]
  },
  {
   "cell_type": "markdown",
   "id": "40616821-1e07-44a1-b616-be4a7cbe2efa",
   "metadata": {},
   "source": [
    "### Create and fit four separate $k$-nearest neighbors models: one with $k = 3$, one with $k = 5$, one with $k = 15$, and one with $k = 25$:"
   ]
  },
  {
   "cell_type": "code",
   "execution_count": 45,
   "id": "133a0b97-b478-41d4-a4f0-4425d21868fa",
   "metadata": {},
   "outputs": [
    {
     "data": {
      "text/plain": [
       "KNeighborsClassifier()"
      ]
     },
     "execution_count": 45,
     "metadata": {},
     "output_type": "execute_result"
    }
   ],
   "source": [
    "knn.fit(X_train,y_train)"
   ]
  },
  {
   "cell_type": "code",
   "execution_count": 46,
   "id": "aa624de3-cdf7-430f-8c09-b3d14d27d124",
   "metadata": {},
   "outputs": [
    {
     "data": {
      "text/plain": [
       "0.848629700446144"
      ]
     },
     "execution_count": 46,
     "metadata": {},
     "output_type": "execute_result"
    }
   ],
   "source": [
    "knn.score(X_train,y_train)"
   ]
  },
  {
   "cell_type": "code",
   "execution_count": 47,
   "id": "0a31c7c5-281a-4e52-a198-9db8c182b7bd",
   "metadata": {},
   "outputs": [
    {
     "data": {
      "text/plain": [
       "0.8326959847036329"
      ]
     },
     "execution_count": 47,
     "metadata": {},
     "output_type": "execute_result"
    }
   ],
   "source": [
    "knn.score(X_test, y_test)"
   ]
  },
  {
   "cell_type": "code",
   "execution_count": 54,
   "id": "6df6166e-b254-4963-919d-51bbfd9653a2",
   "metadata": {},
   "outputs": [],
   "source": [
    "knn1=KNeighborsClassifier(n_neighbors=3)"
   ]
  },
  {
   "cell_type": "code",
   "execution_count": 55,
   "id": "d3b42c96-3a3b-475d-9b45-1ff3f3665f26",
   "metadata": {},
   "outputs": [
    {
     "data": {
      "text/plain": [
       "KNeighborsClassifier(n_neighbors=3)"
      ]
     },
     "execution_count": 55,
     "metadata": {},
     "output_type": "execute_result"
    }
   ],
   "source": [
    "knn1.fit(X_train,y_train)"
   ]
  },
  {
   "cell_type": "code",
   "execution_count": 56,
   "id": "db2f3827-dbe4-437f-a6d8-fec0f7a82973",
   "metadata": {},
   "outputs": [
    {
     "data": {
      "text/plain": [
       "0.8658381134480561"
      ]
     },
     "execution_count": 56,
     "metadata": {},
     "output_type": "execute_result"
    }
   ],
   "source": [
    "knn1.score(X_train,y_train)"
   ]
  },
  {
   "cell_type": "code",
   "execution_count": 57,
   "id": "336d3405-4730-4b22-9f3c-c2212101f398",
   "metadata": {},
   "outputs": [
    {
     "data": {
      "text/plain": [
       "0.8068833652007649"
      ]
     },
     "execution_count": 57,
     "metadata": {},
     "output_type": "execute_result"
    }
   ],
   "source": [
    "knn1.score(X_test, y_test)"
   ]
  },
  {
   "cell_type": "code",
   "execution_count": 58,
   "id": "23636949-463f-4763-9029-bb98112a41ee",
   "metadata": {},
   "outputs": [],
   "source": [
    "knn2=KNeighborsClassifier(n_neighbors=5)"
   ]
  },
  {
   "cell_type": "code",
   "execution_count": 59,
   "id": "01ac601b-da6e-4715-bf6a-56fe43c73bce",
   "metadata": {},
   "outputs": [
    {
     "data": {
      "text/plain": [
       "KNeighborsClassifier()"
      ]
     },
     "execution_count": 59,
     "metadata": {},
     "output_type": "execute_result"
    }
   ],
   "source": [
    "knn2.fit(X_train,y_train)"
   ]
  },
  {
   "cell_type": "code",
   "execution_count": 60,
   "id": "96b81bae-3bcd-4615-a966-983543f46497",
   "metadata": {},
   "outputs": [
    {
     "data": {
      "text/plain": [
       "0.848629700446144"
      ]
     },
     "execution_count": 60,
     "metadata": {},
     "output_type": "execute_result"
    }
   ],
   "source": [
    "knn2.score(X_train,y_train)"
   ]
  },
  {
   "cell_type": "code",
   "execution_count": 61,
   "id": "381d87ea-3fda-458a-b2ce-ec9a0f60f79c",
   "metadata": {},
   "outputs": [
    {
     "data": {
      "text/plain": [
       "0.8326959847036329"
      ]
     },
     "execution_count": 61,
     "metadata": {},
     "output_type": "execute_result"
    }
   ],
   "source": [
    "knn2.score(X_test,y_test)"
   ]
  },
  {
   "cell_type": "code",
   "execution_count": 62,
   "id": "b44deb5b-06a8-4db7-a848-cc47aeb3b2e7",
   "metadata": {},
   "outputs": [],
   "source": [
    "knn3=KNeighborsClassifier(n_neighbors=15)"
   ]
  },
  {
   "cell_type": "code",
   "execution_count": 63,
   "id": "d4eca16c-d82a-4b54-8335-bcd6275eef11",
   "metadata": {},
   "outputs": [
    {
     "data": {
      "text/plain": [
       "KNeighborsClassifier(n_neighbors=15)"
      ]
     },
     "execution_count": 63,
     "metadata": {},
     "output_type": "execute_result"
    }
   ],
   "source": [
    "knn3.fit(X_train,y_train)"
   ]
  },
  {
   "cell_type": "code",
   "execution_count": 64,
   "id": "1ed63b69-aa66-4f11-a539-965ce5316b68",
   "metadata": {},
   "outputs": [
    {
     "data": {
      "text/plain": [
       "0.8467176545570427"
      ]
     },
     "execution_count": 64,
     "metadata": {},
     "output_type": "execute_result"
    }
   ],
   "source": [
    "knn3.score(X_train,y_train)"
   ]
  },
  {
   "cell_type": "code",
   "execution_count": 65,
   "id": "2bb9d7bc-c39b-494c-bec4-2c02fb92698d",
   "metadata": {},
   "outputs": [
    {
     "data": {
      "text/plain": [
       "0.8460803059273423"
      ]
     },
     "execution_count": 65,
     "metadata": {},
     "output_type": "execute_result"
    }
   ],
   "source": [
    "knn3.score(X_test,y_test)"
   ]
  },
  {
   "cell_type": "code",
   "execution_count": 66,
   "id": "4e4cb7d1-39c0-4489-9af5-af5cf22d6850",
   "metadata": {},
   "outputs": [],
   "source": [
    "knn4=KNeighborsClassifier(n_neighbors=25)"
   ]
  },
  {
   "cell_type": "code",
   "execution_count": 67,
   "id": "e648b87c-9e8d-40ae-a79f-4e8494f35708",
   "metadata": {},
   "outputs": [
    {
     "data": {
      "text/plain": [
       "KNeighborsClassifier(n_neighbors=25)"
      ]
     },
     "execution_count": 67,
     "metadata": {},
     "output_type": "execute_result"
    }
   ],
   "source": [
    "knn4.fit(X_train,y_train)"
   ]
  },
  {
   "cell_type": "code",
   "execution_count": 68,
   "id": "24649e87-5b48-4828-a0f8-449c285a6a24",
   "metadata": {},
   "outputs": [
    {
     "data": {
      "text/plain": [
       "0.8467176545570427"
      ]
     },
     "execution_count": 68,
     "metadata": {},
     "output_type": "execute_result"
    }
   ],
   "source": [
    "knn4.score(X_train,y_train)"
   ]
  },
  {
   "cell_type": "code",
   "execution_count": 69,
   "id": "915cd7a5-eaa1-472d-a63f-d592f2393043",
   "metadata": {},
   "outputs": [
    {
     "data": {
      "text/plain": [
       "0.8460803059273423"
      ]
     },
     "execution_count": 69,
     "metadata": {},
     "output_type": "execute_result"
    }
   ],
   "source": [
    "knn4.score(X_test,y_test)"
   ]
  },
  {
   "cell_type": "markdown",
   "id": "c8ab5c3b-f92c-46db-999c-305712d30b80",
   "metadata": {},
   "source": [
    "### Evaluate your models:\n",
    "\n",
    "Evaluate each of your four models on the training and testing sets, and interpret the four scores. Are any of your models overfit or underfit? Do any of your models beat the baseline accuracy rate?"
   ]
  },
  {
   "cell_type": "code",
   "execution_count": 74,
   "id": "0f886323-9ffa-4280-83a9-4bea44427c57",
   "metadata": {},
   "outputs": [
    {
     "name": "stdout",
     "output_type": "stream",
     "text": [
      "train_r2_knn1 = 0.8658381134480561,test_r2_knn1 = 0.8068833652007649\n",
      "train_r2_knn2 = 0.848629700446144,test_r2_knn2 = 0.8326959847036329\n",
      "train_r2_knn3 = 0.8467176545570427,test_r2_knn3 = 0.8460803059273423\n",
      "train_r2_knn4 = 0.8467176545570427,test_r2_knn4 = 0.8460803059273423\n"
     ]
    }
   ],
   "source": [
    "print(f'train_r2_knn1 = {knn1.score(X_train,y_train)},test_r2_knn1 = {knn1.score(X_test,y_test)}')\n",
    "\n",
    "print(f'train_r2_knn2 = {knn2.score(X_train,y_train)},test_r2_knn2 = {knn2.score(X_test,y_test)}')\n",
    "print(f'train_r2_knn3 = {knn3.score(X_train,y_train)},test_r2_knn3 = {knn3.score(X_test,y_test)}')\n",
    "print(f'train_r2_knn4 = {knn4.score(X_train,y_train)},test_r2_knn4 = {knn4.score(X_test,y_test)}')\n",
    "\n",
    "\n"
   ]
  },
  {
   "cell_type": "markdown",
   "id": "4f2d8ebd-92eb-4d49-96d5-f42ef2e9dc1b",
   "metadata": {},
   "source": [
    "knn1 is 86% accurate in predicting right for train data and 80% accurate for test data.since the % is less in test data,its undergoing bias,and we need to increase the complexity.\n",
    "86.58% accuracy in a 3-fold cv of 4184 samples is in line with 15 wrong out of 3128 training samples.\n"
   ]
  },
  {
   "cell_type": "markdown",
   "id": "045a2cdf-b987-4dd7-9d28-3482d41a892f",
   "metadata": {},
   "source": [
    "knn2 is 84% accurate in predicting right for train data and 83% accurate for test data."
   ]
  },
  {
   "cell_type": "markdown",
   "id": "df049e80-a61f-41e5-aac3-1b9894e45e39",
   "metadata": {},
   "source": [
    "knn3 and knn4 is 84% accurate in predicting right for train data and 84% accurate for test data."
   ]
  },
  {
   "cell_type": "markdown",
   "id": "a5822216-8b42-4722-a53e-662d74be51bf",
   "metadata": {},
   "source": [
    "when compares with dummy baseline acuracy(83.3%),knn2,knn3,knn4 will be the best model."
   ]
  },
  {
   "cell_type": "markdown",
   "id": "8bfa9ddd-7b09-485c-8275-b13024f53248",
   "metadata": {
    "tags": []
   },
   "source": [
    "---\n",
    "\n",
    "## Step 4 & 5 Modeling: logistic regression\n",
    "\n",
    "### Create and fit four separate logistic regression models: one with LASSO and $\\alpha = 1$, one with LASSO and $\\alpha = 10$, one with Ridge and $\\alpha = 1$, and one with Ridge and $\\alpha = 10$. *(Hint: Be careful with how you specify $\\alpha$ in your model!)*\n",
    "\n",
    "Note: You can use the same train and test data as above."
   ]
  },
  {
   "cell_type": "code",
   "execution_count": 120,
   "id": "018a6dca-2497-4622-932f-6199603979cf",
   "metadata": {},
   "outputs": [],
   "source": [
    "lr1=LogisticRegression(C=1,penalty=\"l1\", solver=\"liblinear\") #lasso=1,alpha=1"
   ]
  },
  {
   "cell_type": "code",
   "execution_count": 121,
   "id": "930d391e-3d37-42a8-b4b3-4cfac8f2c138",
   "metadata": {},
   "outputs": [],
   "source": [
    "# A regression model that uses the L1 regularization technique is called lasso regression and a model that uses the L2 is called ridge regression.\n",
    "# The key difference between these two is the penalty term"
   ]
  },
  {
   "cell_type": "code",
   "execution_count": 122,
   "id": "eb4e6e34-dd88-451f-a1b1-d6789f536194",
   "metadata": {},
   "outputs": [
    {
     "data": {
      "text/plain": [
       "LogisticRegression(C=1, penalty='l1', solver='liblinear')"
      ]
     },
     "execution_count": 122,
     "metadata": {},
     "output_type": "execute_result"
    }
   ],
   "source": [
    "lr1"
   ]
  },
  {
   "cell_type": "code",
   "execution_count": 123,
   "id": "418375f1-50f4-49e1-a227-5d8e95050e11",
   "metadata": {},
   "outputs": [
    {
     "data": {
      "text/plain": [
       "LogisticRegression(C=1, penalty='l1', solver='liblinear')"
      ]
     },
     "execution_count": 123,
     "metadata": {},
     "output_type": "execute_result"
    }
   ],
   "source": [
    "lr1.fit(X_train, y_train)"
   ]
  },
  {
   "cell_type": "code",
   "execution_count": 124,
   "id": "7bcb7f71-9d2a-43c3-b97f-2a7c71990df6",
   "metadata": {},
   "outputs": [
    {
     "name": "stdout",
     "output_type": "stream",
     "text": [
      "0.847036328871893\n",
      "0.8460803059273423\n"
     ]
    }
   ],
   "source": [
    "print(lr1.score(X_train, y_train))\n",
    "print(lr1.score(X_test, y_test))"
   ]
  },
  {
   "cell_type": "code",
   "execution_count": 125,
   "id": "b28af397-0c2c-48af-8b11-12ee6e91ac8a",
   "metadata": {},
   "outputs": [],
   "source": [
    "lr2=LogisticRegression(C=10,penalty=\"l1\", solver=\"liblinear\") #lasso=1,alpha=10"
   ]
  },
  {
   "cell_type": "code",
   "execution_count": 126,
   "id": "8f62a4a6-de3c-4d7a-986d-1e29617b1a69",
   "metadata": {},
   "outputs": [
    {
     "data": {
      "text/plain": [
       "LogisticRegression(C=10, penalty='l1', solver='liblinear')"
      ]
     },
     "execution_count": 126,
     "metadata": {},
     "output_type": "execute_result"
    }
   ],
   "source": [
    "lr2.fit(X_train, y_train)"
   ]
  },
  {
   "cell_type": "code",
   "execution_count": 127,
   "id": "e7e893a5-73db-4726-9797-026e42cf641a",
   "metadata": {},
   "outputs": [
    {
     "name": "stdout",
     "output_type": "stream",
     "text": [
      "0.847036328871893\n",
      "0.8451242829827916\n"
     ]
    }
   ],
   "source": [
    "print(lr2.score(X_train, y_train))\n",
    "print(lr2.score(X_test, y_test))"
   ]
  },
  {
   "cell_type": "code",
   "execution_count": 128,
   "id": "7a1c1d2d-7356-473a-8b82-16698437a256",
   "metadata": {},
   "outputs": [],
   "source": [
    "lr3=LogisticRegression(C=1,penalty='l2',solver='liblinear') #ridge=1,alpha=1"
   ]
  },
  {
   "cell_type": "code",
   "execution_count": 129,
   "id": "e111e73a-0f31-4f37-928c-fffd7b76c173",
   "metadata": {},
   "outputs": [
    {
     "data": {
      "text/plain": [
       "LogisticRegression(C=1, solver='liblinear')"
      ]
     },
     "execution_count": 129,
     "metadata": {},
     "output_type": "execute_result"
    }
   ],
   "source": [
    "lr3.fit(X_train, y_train)"
   ]
  },
  {
   "cell_type": "code",
   "execution_count": 130,
   "id": "94fc7b68-a38b-4eff-b331-88f9d99c6bc9",
   "metadata": {},
   "outputs": [
    {
     "name": "stdout",
     "output_type": "stream",
     "text": [
      "0.847036328871893\n",
      "0.8460803059273423\n"
     ]
    }
   ],
   "source": [
    "print(lr3.score(X_train, y_train))\n",
    "print(lr3.score(X_test, y_test))"
   ]
  },
  {
   "cell_type": "code",
   "execution_count": 131,
   "id": "9c2a9bcf-4f75-4982-a051-fba598f0042c",
   "metadata": {},
   "outputs": [],
   "source": [
    "lr4=LogisticRegression(C=10,penalty='l2',solver='liblinear') #ridge=1,alpha=10"
   ]
  },
  {
   "cell_type": "code",
   "execution_count": 132,
   "id": "c6c68847-dde0-4c7f-ace9-f0275c7e3cf3",
   "metadata": {},
   "outputs": [
    {
     "data": {
      "text/plain": [
       "LogisticRegression(C=10, solver='liblinear')"
      ]
     },
     "execution_count": 132,
     "metadata": {},
     "output_type": "execute_result"
    }
   ],
   "source": [
    "lr4.fit(X_train, y_train)"
   ]
  },
  {
   "cell_type": "code",
   "execution_count": 133,
   "id": "a9e01a33-c715-4dd7-9a24-c2e6e7d8d754",
   "metadata": {},
   "outputs": [
    {
     "name": "stdout",
     "output_type": "stream",
     "text": [
      "0.847036328871893\n",
      "0.8460803059273423\n"
     ]
    }
   ],
   "source": [
    "print(lr4.score(X_train, y_train))\n",
    "print(lr4.score(X_test, y_test))"
   ]
  },
  {
   "cell_type": "markdown",
   "id": "f199cb0c-014a-479e-b8a1-0ac2606d81d9",
   "metadata": {},
   "source": [
    "### Evaluate your models:\n",
    "\n",
    "Evaluate each of your four models on the training and testing sets, and interpret the four scores. Are any of your models overfit or underfit? Do any of your models beat the baseline accuracy rate?"
   ]
  },
  {
   "cell_type": "code",
   "execution_count": 134,
   "id": "b8876daa-01f8-41fb-a661-582ed8715a86",
   "metadata": {},
   "outputs": [
    {
     "name": "stdout",
     "output_type": "stream",
     "text": [
      "train_r2_lr1 = 0.847036328871893,test_r2_lr1 = 0.8460803059273423\n",
      "train_r2_lr2 = 0.847036328871893,test_r2_lr2 = 0.8451242829827916\n",
      "train_r2_lr3 = 0.847036328871893,test_r2_lr3 = 0.8460803059273423\n",
      "train_r2_lr4 = 0.847036328871893,test_r2_lr4 = 0.8460803059273423\n"
     ]
    }
   ],
   "source": [
    "print(f'train_r2_lr1 = {lr1.score(X_train,y_train)},test_r2_lr1 = {lr1.score(X_test,y_test)}')\n",
    "\n",
    "print(f'train_r2_lr2 = {lr2.score(X_train,y_train)},test_r2_lr2 = {lr2.score(X_test,y_test)}')\n",
    "print(f'train_r2_lr3 = {lr3.score(X_train,y_train)},test_r2_lr3 = {lr3.score(X_test,y_test)}')\n",
    "print(f'train_r2_lr4 = {lr4.score(X_train,y_train)},test_r2_lr4 = {lr4.score(X_test,y_test)}')\n",
    "\n",
    "\n"
   ]
  },
  {
   "cell_type": "markdown",
   "id": "a6bb236a-5099-4148-b848-8194cb63242d",
   "metadata": {},
   "source": [
    "All the models are performing with 84.7 % accuracy in train_data and 84.6% in test _data.\n"
   ]
  }
 ],
 "metadata": {
  "kernelspec": {
   "display_name": "Python 3 (ipykernel)",
   "language": "python",
   "name": "python3"
  },
  "language_info": {
   "codemirror_mode": {
    "name": "ipython",
    "version": 3
   },
   "file_extension": ".py",
   "mimetype": "text/x-python",
   "name": "python",
   "nbconvert_exporter": "python",
   "pygments_lexer": "ipython3",
   "version": "3.9.12"
  }
 },
 "nbformat": 4,
 "nbformat_minor": 5
}
